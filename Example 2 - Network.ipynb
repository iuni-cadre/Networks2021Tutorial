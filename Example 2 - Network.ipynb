{
 "cells": [
  {
   "cell_type": "markdown",
   "id": "49b8d98d-ee78-46ac-a9b7-ba2e14343219",
   "metadata": {},
   "source": [
    "### Tutorial 2 - Building a citation network\n",
    " - Loading the query results with edges file\n",
    " - Building a citation network\n",
    " - Exploring the network"
   ]
  },
  {
   "cell_type": "markdown",
   "id": "6e8ee212-1c4f-40c1-94bc-10b6c2b50b2b",
   "metadata": {},
   "source": [
    "#### Packages needed"
   ]
  },
  {
   "cell_type": "code",
   "execution_count": 68,
   "id": "337a38d5-8aa3-4e75-9028-f835e18bd825",
   "metadata": {},
   "outputs": [],
   "source": [
    "from tqdm.auto import tqdm\n",
    "import pandas as pd\n",
    "import xnetwork as xnet\n",
    "import numpy as np\n",
    "import igraph as ig\n",
    "import sys\n",
    "import os\n",
    "from pathlib import Path\n",
    "import matplotlib.pyplot as plt\n",
    "%matplotlib widget"
   ]
  },
  {
   "cell_type": "markdown",
   "id": "81523625-8d89-44c2-876f-139613f6d078",
   "metadata": {
    "tags": []
   },
   "source": [
    "### Set the query ID here"
   ]
  },
  {
   "cell_type": "code",
   "execution_count": 69,
   "id": "5cda0f49-cbd5-4785-a6c1-dd106ca5b28f",
   "metadata": {
    "tags": []
   },
   "outputs": [],
   "source": [
    "queryID = \"DEMO_NatureJournals\"\n",
    "\n",
    "# queryID = \"DEMO_Networks\"\n",
    "# or use the queryID provided by a query, such as\n",
    "# queryID = \"Nature_0e367ff2-8670-454b-9b31-ca4d0d85fe96\""
   ]
  },
  {
   "cell_type": "markdown",
   "id": "4dd1f397-d995-4fc9-90a2-d35615013e64",
   "metadata": {},
   "source": [
    "#### Setting up some folders and paths"
   ]
  },
  {
   "cell_type": "code",
   "execution_count": 70,
   "id": "0f60d9dd-77af-4498-a2e6-e4dfd25af470",
   "metadata": {
    "tags": []
   },
   "outputs": [],
   "source": [
    "os.makedirs(\"networks\",exist_ok=True)\n",
    "os.makedirs(\"figures\", exist_ok=True)"
   ]
  },
  {
   "cell_type": "markdown",
   "id": "ea7bb184-9b23-41d6-b3ea-ff85d5cd8571",
   "metadata": {},
   "source": [
    "#### Fields available for MAG queries"
   ]
  },
  {
   "cell_type": "code",
   "execution_count": 71,
   "id": "3501592b-ad20-4940-b82c-d402b9cffd80",
   "metadata": {},
   "outputs": [],
   "source": [
    "MAGColumnTypes = {\n",
    "    \"Paper_paperId\":int,\n",
    "    'Affiliation_displayName': str,\n",
    "    'Author_authorId': str,\n",
    "    'Author_rank': str,\n",
    "    'Author_normalizedName': str,\n",
    "    'Author_lastKnownAffiliationId': str,\n",
    "    'Paper_bookTitle': str,\n",
    "    'ConferenceInstance_conferenceInstanceId': str,\n",
    "    'Paper_date': str,\n",
    "    'Paper_docType': str,\n",
    "    'Paper_doi': str,\n",
    "    'FieldOfStudy_fieldOfStudyId': str,\n",
    "    'Paper_issue': str,\n",
    "    'Journal_normalizedName': str,\n",
    "    'Journal_issn': str,\n",
    "    'Journal_publisher': str,\n",
    "    'Paper_originalTitle': str,\n",
    "    'Paper_citationCount': int,\n",
    "    'Paper_estimatedCitation': int,\n",
    "    'Paper_firstPage': str,\n",
    "    'Paper_lastPage': str,\n",
    "    'Paper_publisher': str,\n",
    "    'Paper_referenceCount': int,\n",
    "    'Paper_paperTitle': str,\n",
    "    'Paper_year': int,\n",
    "    'isQueryPaper': str,\n",
    "}"
   ]
  },
  {
   "cell_type": "markdown",
   "id": "fbf2bd50-5220-4cbd-b442-34c40487338c",
   "metadata": {},
   "source": [
    "### Function to build a citation network from the data\n",
    "This function also do some network calculations and detect communities"
   ]
  },
  {
   "cell_type": "code",
   "execution_count": 72,
   "id": "ffc5e537-a723-4def-8c3b-e97cd12a1038",
   "metadata": {},
   "outputs": [],
   "source": [
    "def networkFromQuery(queryID):\n",
    "#     nodes_file, edges_file, output_file\n",
    "    networkPath = Path(\"networks\")/(\"%s.xnet\"%queryID)\n",
    "    if networkPath.is_file():\n",
    "        return xnet.xnet2igraph(networkPath.absolute())\n",
    "    \n",
    "    if(queryID.startswith(\"DEMO_\")):\n",
    "        # if _DEMO_ is used, the data will be loaded from the demo queries instead\n",
    "        queryResultsPath = Path(\"./demo_queries/\")\n",
    "        queryID = queryID.replace(\"DEMO_\",\"\")\n",
    "    else:\n",
    "        queryResultsPath = Path(\"../query-results/\")\n",
    "    \n",
    "    \n",
    "    nodes_file = queryResultsPath/(\"%s.csv\"%queryID)\n",
    "    edges_file = queryResultsPath/(\"%s_edges.csv\"%queryID)\n",
    "    \n",
    "    \n",
    "    global edgesData,nodesData,vertexAttributes,index2ID,graph\n",
    "    edgesData = pd.read_csv(edges_file)\n",
    "    nodesData = pd.read_csv(nodes_file, dtype=MAGColumnTypes).dropna(subset=[\"Paper_year\"])\n",
    "    \n",
    "    # Replacing NaN for empty string\n",
    "    for key in MAGColumnTypes:\n",
    "        if(key in nodesData):\n",
    "            nodesData[key].fillna(\"\",inplace=True)\n",
    "\n",
    "    # Generating continous indices for papers\n",
    "    index2ID  = nodesData[\"Paper_paperId\"].tolist()\n",
    "    ID2Index = {id:index for index, id in enumerate(index2ID)}\n",
    "\n",
    "\n",
    "    # Hack to account for 2 degree capitalized \"FROM\"\n",
    "    fromKey = \"From (Citing)\"\n",
    "\n",
    "    toKey = \"To (Cited)\"\n",
    "    \n",
    "    # Converting edges from IDs to new indices\n",
    "    # Invert edges so it means a citation between from to to\n",
    "    edgesZip = zip(edgesData[fromKey].tolist(),edgesData[toKey].tolist())\n",
    "    edgesList = [(ID2Index[toID],ID2Index[fromID]) for fromID,toID in edgesZip if fromID in ID2Index and toID in ID2Index]\n",
    "\n",
    "    vertexAttributes = {key:nodesData[key].tolist() for key in nodesData if key in MAGColumnTypes}\n",
    "    \n",
    "    for key,data in vertexAttributes.items():\n",
    "        if (isinstance(data[0],str)):\n",
    "            vertexAttributes[key] = [sEntry if len(sEntry)>0 else \"None\" for sEntry in [entry.strip(\"[]\") for entry in data]]\n",
    "            \n",
    "    graph = ig.Graph(\n",
    "        n=len(index2ID),\n",
    "        edges=edgesList,\n",
    "        directed=True,\n",
    "        vertex_attrs=vertexAttributes\n",
    "    )\n",
    "\n",
    "    verticesToDelete = np.where(np.array([value==\"false\" for value in graph.vs[\"isQueryPaper\"]]))[0]\n",
    "    graph.delete_vertices(verticesToDelete)\n",
    "    graph.vs[\"KCore\"] = graph.shell_index(mode=\"IN\")\n",
    "    graph.vs[\"In-Degree\"] = graph.degree(mode=\"IN\")\n",
    "    graph.vs[\"Out-Degree\"] = graph.degree(mode=\"OUT\")\n",
    "\n",
    "    if(\"Paper_year\" in graph.vertex_attributes()):\n",
    "        graph.vs[\"year\"] = [int(year) for year in graph.vs[\"Paper_year\"]]\n",
    "    else:\n",
    "        graph.vs[\"year\"] = [int(s[0:4]) for s in graph.vs[\"date\"]]\n",
    "    \n",
    "    giantComponent = graph.clusters(mode=\"WEAK\").giant()\n",
    "    giantCopy = giantComponent.copy()\n",
    "    giantCopy.to_undirected()\n",
    "    giantComponent.vs[\"Community\"] = [str(c) for c in giantCopy.community_multilevel().membership]\n",
    "    xnet.igraph2xnet(giantComponent, networkPath.absolute())\n",
    "    return xnet.xnet2igraph(networkPath.absolute())"
   ]
  },
  {
   "cell_type": "markdown",
   "id": "e21e7505-e2c2-4855-b5ae-6fbbea9a372f",
   "metadata": {},
   "source": [
    "#### Generating and saving the network"
   ]
  },
  {
   "cell_type": "code",
   "execution_count": 73,
   "id": "7fcfa530-5ab7-418b-8314-f2534f34e259",
   "metadata": {},
   "outputs": [],
   "source": [
    "g = networkFromQuery(queryID)"
   ]
  },
  {
   "cell_type": "markdown",
   "id": "56068e0d-d477-4a2a-9de4-75116529b07e",
   "metadata": {},
   "source": [
    "#### Getting citation distribution inside the query"
   ]
  },
  {
   "cell_type": "code",
   "execution_count": 74,
   "id": "ee3268f1-e5d0-4832-a033-13104e511f07",
   "metadata": {
    "tags": []
   },
   "outputs": [],
   "source": [
    "citations = np.array(g.degree(mode=\"IN\"))"
   ]
  },
  {
   "cell_type": "code",
   "execution_count": 75,
   "id": "0cd3f3db-5ad8-45ae-af05-ed4bed989e5c",
   "metadata": {},
   "outputs": [
    {
     "data": {
      "application/vnd.jupyter.widget-view+json": {
       "model_id": "e12d7ffe46a24d16a5efca46ae2a4d86",
       "version_major": 2,
       "version_minor": 0
      },
      "text/plain": [
       "Canvas(toolbar=Toolbar(toolitems=[('Home', 'Reset original view', 'home', 'home'), ('Back', 'Back to previous …"
      ]
     },
     "metadata": {},
     "output_type": "display_data"
    }
   ],
   "source": [
    "plt.figure()\n",
    "logbins = np.logspace(0,np.log10(np.max(citations)),20)\n",
    "hist, logbins = np.histogram(citations[citations>0], bins=logbins,density=True)\n",
    "plt.plot(logbins[:-1],hist,\"o\")\n",
    "plt.xscale(\"log\")\n",
    "plt.yscale(\"log\")\n",
    "plt.xlabel(\"Received citations\")\n",
    "plt.ylabel(\"Density\")\n",
    "plt.show()"
   ]
  },
  {
   "cell_type": "markdown",
   "id": "85c130ac-f51b-43ec-8469-2436e70f6501",
   "metadata": {},
   "source": [
    "#### Top papers according to betweenness centrality"
   ]
  },
  {
   "cell_type": "code",
   "execution_count": 76,
   "id": "a327771a-1ec1-410b-8097-13f817fe7dd7",
   "metadata": {},
   "outputs": [],
   "source": [
    "betweenessCentrality = g.betweenness()\n",
    "papersByBetweenness = pd.DataFrame(zip(g.vs[\"Paper_originalTitle\"],g.vs[\"Paper_year\"],betweenessCentrality),\n",
    "            columns=[\"Title\",\"Year\",\"Betweenness\"]).sort_values(\"Betweenness\",ascending=False)"
   ]
  },
  {
   "cell_type": "code",
   "execution_count": 77,
   "id": "2e2fd4a6-a541-4f24-83d3-7a743838c7cb",
   "metadata": {},
   "outputs": [
    {
     "data": {
      "text/html": [
       "<div>\n",
       "<style scoped>\n",
       "    .dataframe tbody tr th:only-of-type {\n",
       "        vertical-align: middle;\n",
       "    }\n",
       "\n",
       "    .dataframe tbody tr th {\n",
       "        vertical-align: top;\n",
       "    }\n",
       "\n",
       "    .dataframe thead th {\n",
       "        text-align: right;\n",
       "    }\n",
       "</style>\n",
       "<table border=\"1\" class=\"dataframe\">\n",
       "  <thead>\n",
       "    <tr style=\"text-align: right;\">\n",
       "      <th></th>\n",
       "      <th>Title</th>\n",
       "      <th>Year</th>\n",
       "      <th>Betweenness</th>\n",
       "    </tr>\n",
       "  </thead>\n",
       "  <tbody>\n",
       "    <tr>\n",
       "      <th>1594</th>\n",
       "      <td>Mammalian Rho GTPases: new insights into their functions from in vivo studies.</td>\n",
       "      <td>2008.0</td>\n",
       "      <td>30960.394304</td>\n",
       "    </tr>\n",
       "    <tr>\n",
       "      <th>7696</th>\n",
       "      <td>The spindle-assembly checkpoint in space and time.</td>\n",
       "      <td>2007.0</td>\n",
       "      <td>29280.906265</td>\n",
       "    </tr>\n",
       "    <tr>\n",
       "      <th>6839</th>\n",
       "      <td>The endocytic pathway: a mosaic of domains</td>\n",
       "      <td>2001.0</td>\n",
       "      <td>21541.402310</td>\n",
       "    </tr>\n",
       "    <tr>\n",
       "      <th>5359</th>\n",
       "      <td>ARF proteins: roles in membrane traffic and beyond.</td>\n",
       "      <td>2006.0</td>\n",
       "      <td>20878.975269</td>\n",
       "    </tr>\n",
       "    <tr>\n",
       "      <th>2512</th>\n",
       "      <td>Boveri revisited: chromosomal instability, aneuploidy and tumorigenesis</td>\n",
       "      <td>2009.0</td>\n",
       "      <td>20347.069128</td>\n",
       "    </tr>\n",
       "  </tbody>\n",
       "</table>\n",
       "</div>"
      ],
      "text/plain": [
       "                                                                               Title  \\\n",
       "1594  Mammalian Rho GTPases: new insights into their functions from in vivo studies.   \n",
       "7696                              The spindle-assembly checkpoint in space and time.   \n",
       "6839                                      The endocytic pathway: a mosaic of domains   \n",
       "5359                             ARF proteins: roles in membrane traffic and beyond.   \n",
       "2512         Boveri revisited: chromosomal instability, aneuploidy and tumorigenesis   \n",
       "\n",
       "        Year   Betweenness  \n",
       "1594  2008.0  30960.394304  \n",
       "7696  2007.0  29280.906265  \n",
       "6839  2001.0  21541.402310  \n",
       "5359  2006.0  20878.975269  \n",
       "2512  2009.0  20347.069128  "
      ]
     },
     "metadata": {},
     "output_type": "display_data"
    }
   ],
   "source": [
    "with pd.option_context('display.max_colwidth', None):\n",
    "    display(papersByBetweenness[0:5])"
   ]
  },
  {
   "cell_type": "code",
   "execution_count": 61,
   "id": "fd564989-fade-4149-84f4-a0ca27afbf76",
   "metadata": {},
   "outputs": [],
   "source": []
  },
  {
   "cell_type": "code",
   "execution_count": null,
   "id": "8b8afe4c-b183-4ef9-a375-7bca0ad7be74",
   "metadata": {},
   "outputs": [],
   "source": []
  }
 ],
 "metadata": {
  "kernelspec": {
   "display_name": "Python 3",
   "language": "python",
   "name": "python3"
  },
  "language_info": {
   "codemirror_mode": {
    "name": "ipython",
    "version": 3
   },
   "file_extension": ".py",
   "mimetype": "text/x-python",
   "name": "python",
   "nbconvert_exporter": "python",
   "pygments_lexer": "ipython3",
   "version": "3.9.4"
  }
 },
 "nbformat": 4,
 "nbformat_minor": 5
}
