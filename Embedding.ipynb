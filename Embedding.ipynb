{
 "cells": [
  {
   "cell_type": "code",
   "execution_count": 4,
   "metadata": {},
   "outputs": [
    {
     "name": "stdout",
     "output_type": "stream",
     "text": [
      "WARNING: pip is being invoked by an old script wrapper. This will fail in a future version of pip.\n",
      "Please see https://github.com/pypa/pip/issues/5599 for advice on fixing the underlying issue.\n",
      "To avoid this problem you can invoke Python with '-m pip' instead of running pip directly.\n",
      "Collecting numpy\n",
      "  Using cached numpy-1.20.3-cp37-cp37m-manylinux_2_12_x86_64.manylinux2010_x86_64.whl (15.3 MB)\n",
      "\u001b[31mERROR: numba 0.48.0 has requirement llvmlite<0.32.0,>=0.31.0dev0, but you'll have llvmlite 0.36.0 which is incompatible.\u001b[0m\n",
      "Installing collected packages: numpy\n",
      "  Attempting uninstall: numpy\n",
      "    Found existing installation: numpy 1.17.5\n",
      "    Uninstalling numpy-1.17.5:\n",
      "      Successfully uninstalled numpy-1.17.5\n",
      "Successfully installed numpy-1.20.3\n",
      "WARNING: pip is being invoked by an old script wrapper. This will fail in a future version of pip.\n",
      "Please see https://github.com/pypa/pip/issues/5599 for advice on fixing the underlying issue.\n",
      "To avoid this problem you can invoke Python with '-m pip' instead of running pip directly.\n",
      "Requirement already satisfied: tqdm in /opt/conda/lib/python3.7/site-packages (4.42.0)\n",
      "WARNING: pip is being invoked by an old script wrapper. This will fail in a future version of pip.\n",
      "Please see https://github.com/pypa/pip/issues/5599 for advice on fixing the underlying issue.\n",
      "To avoid this problem you can invoke Python with '-m pip' instead of running pip directly.\n",
      "Collecting python-igraph\n",
      "  Using cached python_igraph-0.9.6-cp37-cp37m-manylinux2010_x86_64.whl (3.2 MB)\n",
      "Collecting texttable>=1.6.2\n",
      "  Using cached texttable-1.6.3-py2.py3-none-any.whl (10 kB)\n",
      "Installing collected packages: texttable, python-igraph\n",
      "  Attempting uninstall: python-igraph\n",
      "    Found existing installation: python-igraph 0.7.1.post6\n",
      "    Uninstalling python-igraph-0.7.1.post6:\n",
      "      Successfully uninstalled python-igraph-0.7.1.post6\n",
      "Successfully installed python-igraph-0.9.6 texttable-1.6.3\n",
      "WARNING: pip is being invoked by an old script wrapper. This will fail in a future version of pip.\n",
      "Please see https://github.com/pypa/pip/issues/5599 for advice on fixing the underlying issue.\n",
      "To avoid this problem you can invoke Python with '-m pip' instead of running pip directly.\n",
      "Collecting gensim\n",
      "  Using cached gensim-4.0.1-cp37-cp37m-manylinux1_x86_64.whl (23.9 MB)\n",
      "Collecting smart-open>=1.8.1\n",
      "  Using cached smart_open-5.1.0-py3-none-any.whl (57 kB)\n",
      "Requirement already satisfied: scipy>=0.18.1 in /opt/conda/lib/python3.7/site-packages (from gensim) (1.4.1)\n",
      "Requirement already satisfied: numpy>=1.11.3 in /opt/conda/lib/python3.7/site-packages (from gensim) (1.20.3)\n",
      "Installing collected packages: smart-open, gensim\n",
      "Successfully installed gensim-4.0.1 smart-open-5.1.0\n",
      "WARNING: pip is being invoked by an old script wrapper. This will fail in a future version of pip.\n",
      "Please see https://github.com/pypa/pip/issues/5599 for advice on fixing the underlying issue.\n",
      "To avoid this problem you can invoke Python with '-m pip' instead of running pip directly.\n",
      "Collecting cxrandomwalk\n",
      "  Using cached cxrandomwalk-0.1.6-cp37-cp37m-manylinux2010_x86_64.whl (326 kB)\n",
      "Installing collected packages: cxrandomwalk\n",
      "Successfully installed cxrandomwalk-0.1.6\n",
      "WARNING: pip is being invoked by an old script wrapper. This will fail in a future version of pip.\n",
      "Please see https://github.com/pypa/pip/issues/5599 for advice on fixing the underlying issue.\n",
      "To avoid this problem you can invoke Python with '-m pip' instead of running pip directly.\n",
      "Collecting xnetwork\n",
      "  Using cached xnetwork-0.9-py3-none-any.whl (5.2 kB)\n",
      "Installing collected packages: xnetwork\n",
      "Successfully installed xnetwork-0.9\n",
      "WARNING: pip is being invoked by an old script wrapper. This will fail in a future version of pip.\n",
      "Please see https://github.com/pypa/pip/issues/5599 for advice on fixing the underlying issue.\n",
      "To avoid this problem you can invoke Python with '-m pip' instead of running pip directly.\n",
      "Requirement already satisfied: pandas in /opt/conda/lib/python3.7/site-packages (0.25.3)\n",
      "Requirement already satisfied: python-dateutil>=2.6.1 in /opt/conda/lib/python3.7/site-packages (from pandas) (2.8.1)\n",
      "Requirement already satisfied: numpy>=1.13.3 in /opt/conda/lib/python3.7/site-packages (from pandas) (1.20.3)\n",
      "Requirement already satisfied: pytz>=2017.2 in /opt/conda/lib/python3.7/site-packages (from pandas) (2019.3)\n",
      "Requirement already satisfied: six>=1.5 in /opt/conda/lib/python3.7/site-packages (from python-dateutil>=2.6.1->pandas) (1.14.0)\n",
      "WARNING: pip is being invoked by an old script wrapper. This will fail in a future version of pip.\n",
      "Please see https://github.com/pypa/pip/issues/5599 for advice on fixing the underlying issue.\n",
      "To avoid this problem you can invoke Python with '-m pip' instead of running pip directly.\n",
      "Collecting matplotlib\n",
      "  Using cached matplotlib-3.4.2-cp37-cp37m-manylinux1_x86_64.whl (10.3 MB)\n",
      "Requirement already satisfied, skipping upgrade: cycler>=0.10 in /opt/conda/lib/python3.7/site-packages (from matplotlib) (0.10.0)\n",
      "Requirement already satisfied, skipping upgrade: pyparsing>=2.2.1 in /opt/conda/lib/python3.7/site-packages (from matplotlib) (2.4.6)\n",
      "Requirement already satisfied, skipping upgrade: pillow>=6.2.0 in /opt/conda/lib/python3.7/site-packages (from matplotlib) (7.0.0)\n",
      "Requirement already satisfied, skipping upgrade: kiwisolver>=1.0.1 in /opt/conda/lib/python3.7/site-packages (from matplotlib) (1.1.0)\n",
      "Requirement already satisfied, skipping upgrade: python-dateutil>=2.7 in /opt/conda/lib/python3.7/site-packages (from matplotlib) (2.8.1)\n",
      "Requirement already satisfied, skipping upgrade: numpy>=1.16 in /opt/conda/lib/python3.7/site-packages (from matplotlib) (1.20.3)\n",
      "Requirement already satisfied, skipping upgrade: six in /opt/conda/lib/python3.7/site-packages (from cycler>=0.10->matplotlib) (1.14.0)\n",
      "Requirement already satisfied, skipping upgrade: setuptools in /opt/conda/lib/python3.7/site-packages (from kiwisolver>=1.0.1->matplotlib) (45.1.0.post20200119)\n",
      "Installing collected packages: matplotlib\n",
      "  Attempting uninstall: matplotlib\n",
      "    Found existing installation: matplotlib 3.3.4\n",
      "    Uninstalling matplotlib-3.3.4:\n",
      "      Successfully uninstalled matplotlib-3.3.4\n",
      "Successfully installed matplotlib-3.4.2\n",
      "WARNING: pip is being invoked by an old script wrapper. This will fail in a future version of pip.\n",
      "Please see https://github.com/pypa/pip/issues/5599 for advice on fixing the underlying issue.\n",
      "To avoid this problem you can invoke Python with '-m pip' instead of running pip directly.\n",
      "Collecting numba\n",
      "  Using cached numba-0.53.1-cp37-cp37m-manylinux2014_x86_64.whl (3.4 MB)\n",
      "Requirement already up-to-date: llvmlite in /home/jovyan/.local/lib/python3.7/site-packages (0.36.0)\n",
      "Requirement already satisfied, skipping upgrade: numpy>=1.15 in /opt/conda/lib/python3.7/site-packages (from numba) (1.20.3)\n",
      "Requirement already satisfied, skipping upgrade: setuptools in /opt/conda/lib/python3.7/site-packages (from numba) (45.1.0.post20200119)\n",
      "Installing collected packages: numba\n",
      "Successfully installed numba-0.53.1\n",
      "WARNING: pip is being invoked by an old script wrapper. This will fail in a future version of pip.\n",
      "Please see https://github.com/pypa/pip/issues/5599 for advice on fixing the underlying issue.\n",
      "To avoid this problem you can invoke Python with '-m pip' instead of running pip directly.\n",
      "Processing /home/jovyan/.cache/pip/wheels/01/e7/bb/347dc0e510803d7116a13d592b10cc68262da56a8eec4dd72f/umap_learn-0.5.1-py3-none-any.whl\n",
      "Requirement already satisfied, skipping upgrade: scipy>=1.0 in /opt/conda/lib/python3.7/site-packages (from umap-learn) (1.4.1)\n",
      "Requirement already satisfied, skipping upgrade: scikit-learn>=0.22 in /opt/conda/lib/python3.7/site-packages (from umap-learn) (0.22.1)\n",
      "Requirement already satisfied, skipping upgrade: numba>=0.49 in /home/jovyan/.local/lib/python3.7/site-packages (from umap-learn) (0.53.1)\n",
      "Requirement already satisfied, skipping upgrade: numpy>=1.17 in /opt/conda/lib/python3.7/site-packages (from umap-learn) (1.20.3)\n",
      "Processing /home/jovyan/.cache/pip/wheels/62/0b/55/40d651c5a4106ea9ce68d014335a1c7bf059530722c0107b15/pynndescent-0.5.2-py3-none-any.whl\n",
      "Requirement already satisfied, skipping upgrade: joblib>=0.11 in /opt/conda/lib/python3.7/site-packages (from scikit-learn>=0.22->umap-learn) (0.14.1)\n",
      "Requirement already satisfied, skipping upgrade: setuptools in /opt/conda/lib/python3.7/site-packages (from numba>=0.49->umap-learn) (45.1.0.post20200119)\n",
      "Requirement already satisfied, skipping upgrade: llvmlite<0.37,>=0.36.0rc1 in /home/jovyan/.local/lib/python3.7/site-packages (from numba>=0.49->umap-learn) (0.36.0)\n",
      "Installing collected packages: pynndescent, umap-learn\n",
      "Successfully installed pynndescent-0.5.2 umap-learn-0.5.1\n"
     ]
    }
   ],
   "source": [
    "!pip install -U numpy\n",
    "!pip install tqdm\n",
    "!pip install python-igraph -U\n",
    "!pip install gensim\n",
    "!pip install cxrandomwalk\n",
    "!pip install xnetwork\n",
    "!pip install pandas\n",
    "!pip install matplotlib -U\n",
    "!pip install --user numba llvmlite -U\n",
    "!pip install umap-learn -U\n",
    "\n",
    "# Need to restart kernel after that"
   ]
  },
  {
   "cell_type": "code",
   "execution_count": 1,
   "metadata": {},
   "outputs": [],
   "source": []
  },
  {
   "cell_type": "code",
   "execution_count": 1,
   "metadata": {},
   "outputs": [
    {
     "name": "stderr",
     "output_type": "stream",
     "text": [
      "/opt/conda/lib/python3.7/site-packages/gensim/similarities/__init__.py:15: UserWarning: The gensim.similarities.levenshtein submodule is disabled, because the optional Levenshtein package <https://pypi.org/project/python-Levenshtein/> is unavailable. Install Levenhstein (e.g. `pip install python-Levenshtein`) to suppress this warning.\n",
      "  warnings.warn(msg)\n"
     ]
    }
   ],
   "source": [
    "from tqdm.auto import tqdm\n",
    "import pandas as pd\n",
    "import xnetwork as xnet\n",
    "import numpy as np\n",
    "import igraph as ig\n",
    "import sys\n",
    "import os\n",
    "import cxrandomwalk as rw\n",
    "import umap\n",
    "import gensim\n",
    "import importlib\n",
    "import matplotlib\n",
    "from matplotlib.patches import Patch\n",
    "from matplotlib.lines import Line2D\n",
    "import matplotlib.pyplot as plt\n",
    "import matplotlib.cm as cm\n",
    "from collections import OrderedDict\n",
    "%matplotlib inline\n",
    "\n",
    "queryID = \"ab3f89ab-1d62-449e-a1c1-a8457e88cd00\"\n"
   ]
  },
  {
   "cell_type": "code",
   "execution_count": 4,
   "metadata": {},
   "outputs": [
    {
     "name": "stdout",
     "output_type": "stream",
     "text": []
    },
    {
     "name": "stdout",
     "output_type": "stream",
     "text": [
      "An error occured.\n",
      "ValueError: \"@jupyter-widgets/jupyterlab-manager\" is not a valid extension:\n",
      "schemaDir is empty: \"./schema\"\n",
      "See the log file for details:  /tmp/jupyterlab-debug-v8bavboc.log\n"
     ]
    }
   ],
   "source": [
    "!jupyter labextension install @jupyter-widgets/jupyterlab-manager jupyter-matplotlib@0.7.0"
   ]
  },
  {
   "cell_type": "code",
   "execution_count": 5,
   "metadata": {},
   "outputs": [
    {
     "data": {
      "application/vnd.jupyter.widget-view+json": {
       "model_id": "039f7f9aea2b44ea8de9801c1ebb270b",
       "version_major": 2,
       "version_minor": 0
      },
      "text/plain": [
       "Canvas(toolbar=Toolbar(toolitems=[('Home', 'Reset original view', 'home', 'home'), ('Back', 'Back to previous …"
      ]
     },
     "metadata": {},
     "output_type": "display_data"
    }
   ],
   "source": [
    "plt.figure()\n",
    "plt.plot()\n",
    "plt.show()"
   ]
  },
  {
   "cell_type": "code",
   "execution_count": 4,
   "metadata": {},
   "outputs": [],
   "source": [
    "os.makedirs(\"networks\",exist_ok=True)\n",
    "networkPath = \"networks/\"+queryID+\".xnet\"\n",
    "\n",
    "os.makedirs(\"models\", exist_ok=True)\n",
    "modelPath = \"models/%s.model\"%queryID\n",
    "\n",
    "os.makedirs(\"sentences\", exist_ok=True)\n",
    "sentencesPath = \"sentences/%s.txt\"%queryID"
   ]
  },
  {
   "cell_type": "code",
   "execution_count": 2,
   "metadata": {},
   "outputs": [],
   "source": [
    "MAGColumnTypes = {\n",
    "    \"Paper_paperId\":int,\n",
    "    \"journal_id\": object,\n",
    "    \"Paper_year\": object,\n",
    "    \"Paper_originalTitle\": object,\n",
    "    \"Author_displayName\": object,\n",
    "    \"JournalFixed_displayName\": object,\n",
    "    \"isQueryPaper\": object,\n",
    "}"
   ]
  },
  {
   "cell_type": "code",
   "execution_count": null,
   "metadata": {},
   "outputs": [],
   "source": []
  },
  {
   "cell_type": "code",
   "execution_count": 6,
   "metadata": {},
   "outputs": [],
   "source": [
    "\n",
    "def mag_query_input_to_xnet(nodes_file, edges_file, output_file):\n",
    "    global edgesData,nodesData,vertexAttributes,index2ID\n",
    "    edgesData = pd.read_csv(edges_file)\n",
    "    nodesData = pd.read_csv(nodes_file, dtype=MAGColumnTypes)\n",
    "\n",
    "    # Replacing NaN for empty string\n",
    "    for key in MAGColumnTypes:\n",
    "        if(key in nodesData):\n",
    "            nodesData[key].fillna(\"\",inplace=True)\n",
    "\n",
    "    # Generating continous indices for papers\n",
    "    index2ID  = nodesData[\"Paper_paperId\"].tolist()\n",
    "    ID2Index = {id:index for index, id in enumerate(index2ID)}\n",
    "\n",
    "\n",
    "    # Hack to account for 2 degree capitalized \"FROM\"\n",
    "    fromKey = \"From (Citing)\"\n",
    "\n",
    "    toKey = \"To (Cited)\"\n",
    "    \n",
    "    # Converting edges from IDs to new indices\n",
    "    # Invert edges so it means a citation between from to to\n",
    "    edgesZip = zip(edgesData[fromKey].tolist(),edgesData[toKey].tolist())\n",
    "    edgesList = [(ID2Index[toID],ID2Index[fromID]) for fromID,toID in edgesZip if fromID in ID2Index and toID in ID2Index]\n",
    "\n",
    "    vertexAttributes = {key:nodesData[key].tolist() for key in nodesData}\n",
    "\n",
    "    for key in nodesData:\n",
    "        nodesData[key].tolist()\n",
    "\n",
    "    graph = ig.Graph(\n",
    "        n=len(index2ID),\n",
    "        edges=edgesList,\n",
    "        directed=True,\n",
    "        vertex_attrs=vertexAttributes\n",
    "    )\n",
    "\n",
    "    # verticesToDelete = np.where(np.logical_or(np.array(graph.indegree())==0,np.array(graph.degree())==0))[0]\n",
    "    # graph.delete_vertices(verticesToDelete)\n",
    "    graph.vs[\"KCore\"] = graph.shell_index(mode=\"IN\")\n",
    "\n",
    "    if(\"Paper_year\" in graph.vertex_attributes()):\n",
    "        graph.vs[\"year\"] = [int(year) for year in graph.vs[\"Paper_year\"]]\n",
    "    else:\n",
    "        graph.vs[\"year\"] = [int(s[0:4]) for s in graph.vs[\"date\"]]\n",
    "\n",
    "    giantComponent = graph.clusters(mode=\"WEAK\").giant()\n",
    "    giantCopy = giantComponent.copy()\n",
    "    giantCopy.to_undirected()\n",
    "    giantComponent.vs[\"Community\"] = [str(c) for c in giantCopy.community_multilevel().membership]\n",
    "    xnet.igraph2xnet(giantComponent, output_file)"
   ]
  },
  {
   "cell_type": "code",
   "execution_count": 7,
   "metadata": {},
   "outputs": [],
   "source": [
    "mag_query_input_to_xnet(\n",
    "        \"query-results/%s.csv\"%queryID,\n",
    "        \"query-results/%s_edges.csv\"%queryID,\n",
    "        networkPath\n",
    "    )"
   ]
  },
  {
   "cell_type": "code",
   "execution_count": 8,
   "metadata": {},
   "outputs": [],
   "source": [
    "from gensim.models.callbacks import CallbackAny2Vec\n",
    "\n",
    "class MonitorCallback(CallbackAny2Vec):\n",
    "    def __init__(self,pbar):\n",
    "        self.pbar = pbar\n",
    "\n",
    "    def on_epoch_end(self, model):\n",
    "        self.pbar.update(1)\n",
    "#         self.pbar.set_description(\"loss: %g\"%model.get_latest_training_loss())\n",
    "        self.pbar.refresh() # to show immediately the update\n",
    "    \n",
    "    \n"
   ]
  },
  {
   "cell_type": "code",
   "execution_count": 9,
   "metadata": {},
   "outputs": [],
   "source": [
    "g = xnet.xnet2igraph(networkPath)"
   ]
  },
  {
   "cell_type": "code",
   "execution_count": 3,
   "metadata": {},
   "outputs": [],
   "source": []
  },
  {
   "cell_type": "code",
   "execution_count": 7,
   "metadata": {},
   "outputs": [
    {
     "data": {
      "application/vnd.jupyter.widget-view+json": {
       "model_id": "c8d079054dd84053b0ffefed53b118a9",
       "version_major": 2,
       "version_minor": 0
      },
      "text/plain": [
       "HBox(children=(FloatProgress(value=0.0, max=27625.0), HTML(value='')))"
      ]
     },
     "metadata": {},
     "output_type": "display_data"
    }
   ],
   "source": [
    "agent = rw.Agent(g.vcount(),np.array(g.get_edgelist()),False);\n",
    "\n",
    "def make_pbar():\n",
    "    pbar = None\n",
    "    def inner(current,total):\n",
    "        nonlocal pbar\n",
    "        if(pbar is None):\n",
    "            pbar= tqdm(total=total);\n",
    "        pbar.update(current - pbar.n)\n",
    "    return inner\n",
    "\n",
    "agent.generateWalks(q=1.0,p=1.0,filename=sentencesPath,walksPerNode=5,verbose=False,updateInterval=100,callback=make_pbar()) #filename=\"entireData.txt\",\n"
   ]
  },
  {
   "cell_type": "code",
   "execution_count": 10,
   "metadata": {},
   "outputs": [
    {
     "data": {
      "application/vnd.jupyter.widget-view+json": {
       "model_id": "6727360918654a38b29cf1dcff0d096e",
       "version_major": 2,
       "version_minor": 0
      },
      "text/plain": [
       "HBox(children=(FloatProgress(value=1.0, bar_style='info', max=1.0), HTML(value='')))"
      ]
     },
     "metadata": {},
     "output_type": "display_data"
    },
    {
     "ename": "KeyboardInterrupt",
     "evalue": "",
     "output_type": "error",
     "traceback": [
      "\u001b[0;31m---------------------------------------------------------------------------\u001b[0m",
      "\u001b[0;31mKeyboardInterrupt\u001b[0m                         Traceback (most recent call last)",
      "\u001b[0;32m<ipython-input-10-8d72e24e6d5c>\u001b[0m in \u001b[0;36m<module>\u001b[0;34m\u001b[0m\n\u001b[1;32m      6\u001b[0m     \u001b[0mmin_count\u001b[0m\u001b[0;34m=\u001b[0m\u001b[0;36m1\u001b[0m\u001b[0;34m,\u001b[0m\u001b[0;34m\u001b[0m\u001b[0;34m\u001b[0m\u001b[0m\n\u001b[1;32m      7\u001b[0m     \u001b[0msg\u001b[0m\u001b[0;34m=\u001b[0m\u001b[0;36m1\u001b[0m\u001b[0;34m,\u001b[0m\u001b[0;34m\u001b[0m\u001b[0;34m\u001b[0m\u001b[0m\n\u001b[0;32m----> 8\u001b[0;31m     \u001b[0mcallbacks\u001b[0m\u001b[0;34m=\u001b[0m\u001b[0;34m[\u001b[0m\u001b[0mmonitor\u001b[0m\u001b[0;34m]\u001b[0m\u001b[0;34m\u001b[0m\u001b[0;34m\u001b[0m\u001b[0m\n\u001b[0m\u001b[1;32m      9\u001b[0m )#,negative=10)\n\u001b[1;32m     10\u001b[0m \u001b[0;34m\u001b[0m\u001b[0m\n",
      "\u001b[0;32m/opt/conda/lib/python3.7/site-packages/gensim/models/word2vec.py\u001b[0m in \u001b[0;36m__init__\u001b[0;34m(self, sentences, corpus_file, vector_size, alpha, window, min_count, max_vocab_size, sample, seed, workers, min_alpha, sg, hs, negative, ns_exponent, cbow_mean, hashfxn, epochs, null_word, trim_rule, sorted_vocab, batch_words, compute_loss, callbacks, comment, max_final_vocab)\u001b[0m\n\u001b[1;32m    420\u001b[0m                 \u001b[0mcorpus_iterable\u001b[0m\u001b[0;34m=\u001b[0m\u001b[0mcorpus_iterable\u001b[0m\u001b[0;34m,\u001b[0m \u001b[0mcorpus_file\u001b[0m\u001b[0;34m=\u001b[0m\u001b[0mcorpus_file\u001b[0m\u001b[0;34m,\u001b[0m \u001b[0mtotal_examples\u001b[0m\u001b[0;34m=\u001b[0m\u001b[0mself\u001b[0m\u001b[0;34m.\u001b[0m\u001b[0mcorpus_count\u001b[0m\u001b[0;34m,\u001b[0m\u001b[0;34m\u001b[0m\u001b[0;34m\u001b[0m\u001b[0m\n\u001b[1;32m    421\u001b[0m                 \u001b[0mtotal_words\u001b[0m\u001b[0;34m=\u001b[0m\u001b[0mself\u001b[0m\u001b[0;34m.\u001b[0m\u001b[0mcorpus_total_words\u001b[0m\u001b[0;34m,\u001b[0m \u001b[0mepochs\u001b[0m\u001b[0;34m=\u001b[0m\u001b[0mself\u001b[0m\u001b[0;34m.\u001b[0m\u001b[0mepochs\u001b[0m\u001b[0;34m,\u001b[0m \u001b[0mstart_alpha\u001b[0m\u001b[0;34m=\u001b[0m\u001b[0mself\u001b[0m\u001b[0;34m.\u001b[0m\u001b[0malpha\u001b[0m\u001b[0;34m,\u001b[0m\u001b[0;34m\u001b[0m\u001b[0;34m\u001b[0m\u001b[0m\n\u001b[0;32m--> 422\u001b[0;31m                 end_alpha=self.min_alpha, compute_loss=self.compute_loss, callbacks=callbacks)\n\u001b[0m\u001b[1;32m    423\u001b[0m         \u001b[0;32melse\u001b[0m\u001b[0;34m:\u001b[0m\u001b[0;34m\u001b[0m\u001b[0;34m\u001b[0m\u001b[0m\n\u001b[1;32m    424\u001b[0m             \u001b[0;32mif\u001b[0m \u001b[0mtrim_rule\u001b[0m \u001b[0;32mis\u001b[0m \u001b[0;32mnot\u001b[0m \u001b[0;32mNone\u001b[0m\u001b[0;34m:\u001b[0m\u001b[0;34m\u001b[0m\u001b[0;34m\u001b[0m\u001b[0m\n",
      "\u001b[0;32m/opt/conda/lib/python3.7/site-packages/gensim/models/word2vec.py\u001b[0m in \u001b[0;36mtrain\u001b[0;34m(self, corpus_iterable, corpus_file, total_examples, total_words, epochs, start_alpha, end_alpha, word_count, queue_factor, report_delay, compute_loss, callbacks, **kwargs)\u001b[0m\n\u001b[1;32m   1063\u001b[0m                     \u001b[0mcorpus_iterable\u001b[0m\u001b[0;34m,\u001b[0m \u001b[0mcur_epoch\u001b[0m\u001b[0;34m=\u001b[0m\u001b[0mcur_epoch\u001b[0m\u001b[0;34m,\u001b[0m \u001b[0mtotal_examples\u001b[0m\u001b[0;34m=\u001b[0m\u001b[0mtotal_examples\u001b[0m\u001b[0;34m,\u001b[0m\u001b[0;34m\u001b[0m\u001b[0;34m\u001b[0m\u001b[0m\n\u001b[1;32m   1064\u001b[0m                     \u001b[0mtotal_words\u001b[0m\u001b[0;34m=\u001b[0m\u001b[0mtotal_words\u001b[0m\u001b[0;34m,\u001b[0m \u001b[0mqueue_factor\u001b[0m\u001b[0;34m=\u001b[0m\u001b[0mqueue_factor\u001b[0m\u001b[0;34m,\u001b[0m \u001b[0mreport_delay\u001b[0m\u001b[0;34m=\u001b[0m\u001b[0mreport_delay\u001b[0m\u001b[0;34m,\u001b[0m\u001b[0;34m\u001b[0m\u001b[0;34m\u001b[0m\u001b[0m\n\u001b[0;32m-> 1065\u001b[0;31m                     callbacks=callbacks, **kwargs)\n\u001b[0m\u001b[1;32m   1066\u001b[0m             \u001b[0;32melse\u001b[0m\u001b[0;34m:\u001b[0m\u001b[0;34m\u001b[0m\u001b[0;34m\u001b[0m\u001b[0m\n\u001b[1;32m   1067\u001b[0m                 trained_word_count_epoch, raw_word_count_epoch, job_tally_epoch = self._train_epoch_corpusfile(\n",
      "\u001b[0;32m/opt/conda/lib/python3.7/site-packages/gensim/models/word2vec.py\u001b[0m in \u001b[0;36m_train_epoch\u001b[0;34m(self, data_iterable, cur_epoch, total_examples, total_words, queue_factor, report_delay, callbacks)\u001b[0m\n\u001b[1;32m   1423\u001b[0m         trained_word_count, raw_word_count, job_tally = self._log_epoch_progress(\n\u001b[1;32m   1424\u001b[0m             \u001b[0mprogress_queue\u001b[0m\u001b[0;34m,\u001b[0m \u001b[0mjob_queue\u001b[0m\u001b[0;34m,\u001b[0m \u001b[0mcur_epoch\u001b[0m\u001b[0;34m=\u001b[0m\u001b[0mcur_epoch\u001b[0m\u001b[0;34m,\u001b[0m \u001b[0mtotal_examples\u001b[0m\u001b[0;34m=\u001b[0m\u001b[0mtotal_examples\u001b[0m\u001b[0;34m,\u001b[0m\u001b[0;34m\u001b[0m\u001b[0;34m\u001b[0m\u001b[0m\n\u001b[0;32m-> 1425\u001b[0;31m             \u001b[0mtotal_words\u001b[0m\u001b[0;34m=\u001b[0m\u001b[0mtotal_words\u001b[0m\u001b[0;34m,\u001b[0m \u001b[0mreport_delay\u001b[0m\u001b[0;34m=\u001b[0m\u001b[0mreport_delay\u001b[0m\u001b[0;34m,\u001b[0m \u001b[0mis_corpus_file_mode\u001b[0m\u001b[0;34m=\u001b[0m\u001b[0;32mFalse\u001b[0m\u001b[0;34m,\u001b[0m\u001b[0;34m\u001b[0m\u001b[0;34m\u001b[0m\u001b[0m\n\u001b[0m\u001b[1;32m   1426\u001b[0m         )\n\u001b[1;32m   1427\u001b[0m \u001b[0;34m\u001b[0m\u001b[0m\n",
      "\u001b[0;32m/opt/conda/lib/python3.7/site-packages/gensim/models/word2vec.py\u001b[0m in \u001b[0;36m_log_epoch_progress\u001b[0;34m(self, progress_queue, job_queue, cur_epoch, total_examples, total_words, report_delay, is_corpus_file_mode)\u001b[0m\n\u001b[1;32m   1276\u001b[0m \u001b[0;34m\u001b[0m\u001b[0m\n\u001b[1;32m   1277\u001b[0m         \u001b[0;32mwhile\u001b[0m \u001b[0munfinished_worker_count\u001b[0m \u001b[0;34m>\u001b[0m \u001b[0;36m0\u001b[0m\u001b[0;34m:\u001b[0m\u001b[0;34m\u001b[0m\u001b[0;34m\u001b[0m\u001b[0m\n\u001b[0;32m-> 1278\u001b[0;31m             \u001b[0mreport\u001b[0m \u001b[0;34m=\u001b[0m \u001b[0mprogress_queue\u001b[0m\u001b[0;34m.\u001b[0m\u001b[0mget\u001b[0m\u001b[0;34m(\u001b[0m\u001b[0;34m)\u001b[0m  \u001b[0;31m# blocks if workers too slow\u001b[0m\u001b[0;34m\u001b[0m\u001b[0;34m\u001b[0m\u001b[0m\n\u001b[0m\u001b[1;32m   1279\u001b[0m             \u001b[0;32mif\u001b[0m \u001b[0mreport\u001b[0m \u001b[0;32mis\u001b[0m \u001b[0;32mNone\u001b[0m\u001b[0;34m:\u001b[0m  \u001b[0;31m# a thread reporting that it finished\u001b[0m\u001b[0;34m\u001b[0m\u001b[0;34m\u001b[0m\u001b[0m\n\u001b[1;32m   1280\u001b[0m                 \u001b[0munfinished_worker_count\u001b[0m \u001b[0;34m-=\u001b[0m \u001b[0;36m1\u001b[0m\u001b[0;34m\u001b[0m\u001b[0;34m\u001b[0m\u001b[0m\n",
      "\u001b[0;32m/opt/conda/lib/python3.7/queue.py\u001b[0m in \u001b[0;36mget\u001b[0;34m(self, block, timeout)\u001b[0m\n\u001b[1;32m    168\u001b[0m             \u001b[0;32melif\u001b[0m \u001b[0mtimeout\u001b[0m \u001b[0;32mis\u001b[0m \u001b[0;32mNone\u001b[0m\u001b[0;34m:\u001b[0m\u001b[0;34m\u001b[0m\u001b[0;34m\u001b[0m\u001b[0m\n\u001b[1;32m    169\u001b[0m                 \u001b[0;32mwhile\u001b[0m \u001b[0;32mnot\u001b[0m \u001b[0mself\u001b[0m\u001b[0;34m.\u001b[0m\u001b[0m_qsize\u001b[0m\u001b[0;34m(\u001b[0m\u001b[0;34m)\u001b[0m\u001b[0;34m:\u001b[0m\u001b[0;34m\u001b[0m\u001b[0;34m\u001b[0m\u001b[0m\n\u001b[0;32m--> 170\u001b[0;31m                     \u001b[0mself\u001b[0m\u001b[0;34m.\u001b[0m\u001b[0mnot_empty\u001b[0m\u001b[0;34m.\u001b[0m\u001b[0mwait\u001b[0m\u001b[0;34m(\u001b[0m\u001b[0;34m)\u001b[0m\u001b[0;34m\u001b[0m\u001b[0;34m\u001b[0m\u001b[0m\n\u001b[0m\u001b[1;32m    171\u001b[0m             \u001b[0;32melif\u001b[0m \u001b[0mtimeout\u001b[0m \u001b[0;34m<\u001b[0m \u001b[0;36m0\u001b[0m\u001b[0;34m:\u001b[0m\u001b[0;34m\u001b[0m\u001b[0;34m\u001b[0m\u001b[0m\n\u001b[1;32m    172\u001b[0m                 \u001b[0;32mraise\u001b[0m \u001b[0mValueError\u001b[0m\u001b[0;34m(\u001b[0m\u001b[0;34m\"'timeout' must be a non-negative number\"\u001b[0m\u001b[0;34m)\u001b[0m\u001b[0;34m\u001b[0m\u001b[0;34m\u001b[0m\u001b[0m\n",
      "\u001b[0;32m/opt/conda/lib/python3.7/threading.py\u001b[0m in \u001b[0;36mwait\u001b[0;34m(self, timeout)\u001b[0m\n\u001b[1;32m    294\u001b[0m         \u001b[0;32mtry\u001b[0m\u001b[0;34m:\u001b[0m    \u001b[0;31m# restore state no matter what (e.g., KeyboardInterrupt)\u001b[0m\u001b[0;34m\u001b[0m\u001b[0;34m\u001b[0m\u001b[0m\n\u001b[1;32m    295\u001b[0m             \u001b[0;32mif\u001b[0m \u001b[0mtimeout\u001b[0m \u001b[0;32mis\u001b[0m \u001b[0;32mNone\u001b[0m\u001b[0;34m:\u001b[0m\u001b[0;34m\u001b[0m\u001b[0;34m\u001b[0m\u001b[0m\n\u001b[0;32m--> 296\u001b[0;31m                 \u001b[0mwaiter\u001b[0m\u001b[0;34m.\u001b[0m\u001b[0macquire\u001b[0m\u001b[0;34m(\u001b[0m\u001b[0;34m)\u001b[0m\u001b[0;34m\u001b[0m\u001b[0;34m\u001b[0m\u001b[0m\n\u001b[0m\u001b[1;32m    297\u001b[0m                 \u001b[0mgotit\u001b[0m \u001b[0;34m=\u001b[0m \u001b[0;32mTrue\u001b[0m\u001b[0;34m\u001b[0m\u001b[0;34m\u001b[0m\u001b[0m\n\u001b[1;32m    298\u001b[0m             \u001b[0;32melse\u001b[0m\u001b[0;34m:\u001b[0m\u001b[0;34m\u001b[0m\u001b[0;34m\u001b[0m\u001b[0m\n",
      "\u001b[0;31mKeyboardInterrupt\u001b[0m: "
     ]
    }
   ],
   "source": [
    "\n",
    "\n",
    "monitor = MonitorCallback(tqdm())\n",
    "gensimModel = gensim.models.Word2Vec(\n",
    "    gensim.models.word2vec.LineSentence(sentencesPath),\n",
    "    vector_size=64,\n",
    "    workers=2,\n",
    "    min_count=1,\n",
    "    sg=1,\n",
    "    callbacks=[monitor]\n",
    ")#,negative=10)\n",
    "\n",
    "gensimModel.save(modelPath)\n"
   ]
  },
  {
   "cell_type": "code",
   "execution_count": 11,
   "metadata": {},
   "outputs": [],
   "source": [
    "gensimModel = gensim.models.Word2Vec.load(modelPath)\n",
    "gensimVector = gensimModel.wv;\n",
    "# reducer = umap.UMAP(n_neighbors=16, min_dist=0.15, n_components=2, metric='cosine')\n",
    "reducer = umap.UMAP(n_neighbors=10, min_dist=0.25, n_components=2, metric='cosine')\n",
    "embedding = reducer.fit_transform(gensimVector.vectors)\n",
    "\n",
    "keyindex = {int(entry):i for i,entry in enumerate(gensimVector.index_to_key)}\n",
    "indexkey = [keyindex[index] for index in sorted(keyindex.keys())]\n",
    "correctEmbedding = embedding[indexkey,:]\n",
    "\n",
    "g.vs['Position'] = correctEmbedding\n",
    "xnet.igraph2xnet(g,\"networks/\"+queryID+\"_positions.xnet\")"
   ]
  },
  {
   "cell_type": "code",
   "execution_count": 13,
   "metadata": {},
   "outputs": [],
   "source": [
    "\n",
    "\n",
    "def adjust_lightness(color, amount=0.5):\n",
    "    import matplotlib.colors as mc\n",
    "    import colorsys\n",
    "    try:\n",
    "        c = mc.cnames[color]\n",
    "    except:\n",
    "        c = color\n",
    "    c = colorsys.rgb_to_hls(*mc.to_rgb(c))\n",
    "    return colorsys.hls_to_rgb(c[0], amount, c[2])\n",
    "communities = g.vs[\"Community\"]\n",
    "sortedTitles = sorted(list(set(communities)))\n",
    "c2i = {c:i if i<10 else 10 for i,c in enumerate(sortedTitles)}\n",
    "c2cc = {c:cm.tab10(i)[0:3]+(0.25,) if i<10 else (0.75,0.75,0.75,0.05) for i,c in enumerate(sortedTitles)} \n",
    "c2ccLight = {c:adjust_lightness(cm.tab10(i)[0:3]+(0.25,),0.98) if i<10 else adjust_lightness((0.75,0.75,0.75,0.05),0.98) for i,c in enumerate(sortedTitles)} "
   ]
  },
  {
   "cell_type": "code",
   "execution_count": null,
   "metadata": {},
   "outputs": [],
   "source": [
    "fig = plt.figure(figsize=(15, 15),dpi=300)\n",
    "\n",
    "ax = fig.add_axes([0, 0, 1, 1])\n",
    "colors = [c2cc[entry] for entry in communities];\n",
    "colorsLight = [c2ccLight[entry] for entry in communities];\n",
    "# plt.scatter(\n",
    "#     correctEmbedding[invalidIndices, 0],\n",
    "#     correctEmbedding[invalidIndices, 1],\n",
    "# #     s=10*np.array(journalRankings)/np.max(journalRankings),\n",
    "#     # alpha=[0.2 if c2i[entry]<10 else 0.05 for entry in communities],\n",
    "#     s=[1 if c2i[communities[entryIndex]]<10 else 0.5 for entryIndex in invalidIndices],\n",
    "#     # # cmap = \"tab10\",\n",
    "#     c=[colorsLight[entryIndex] for entryIndex in invalidIndices],\n",
    "#     rasterized=True,\n",
    "# )\n",
    "plt.scatter(\n",
    "  correctEmbedding[:, 0],\n",
    "  correctEmbedding[:, 1],\n",
    "#     s=10*np.array(journalRankings)/np.max(journalRankings),\n",
    "  # alpha=[0.2 if c2i[entry]<10 else 0.05 for entry in communities],\n",
    "#   s=[1 if c2i[communities[entryIndex]]<10 else 0.5 for entryIndex in validIndices],\n",
    "  # # cmap = \"tab10\",\n",
    "  c=colors ,\n",
    "  rasterized=True\n",
    ")\n",
    "\n",
    "\n",
    "plt.setp(ax, xticks=[], yticks=[]);\n",
    "fig.patch.set_visible(False)\n",
    "ax.axis('off')\n",
    "plt.savefig(\"map.pdf\",dpi=600);\n",
    "plt.savefig(\"map.png\",dpi=150);\n",
    "plt.close();"
   ]
  },
  {
   "cell_type": "code",
   "execution_count": null,
   "metadata": {},
   "outputs": [],
   "source": [
    "fig, ax = plt.subplots(figsize=(15, 15),dpi=300)\n",
    "legend_elements = [Line2D([0], [0],\n",
    "                    linewidth=0,\n",
    "                    marker='o',\n",
    "                    color=c2cc[community][0:3],\n",
    "                    label=\", \".join(community.replace(\", %,\",\",\",).replace(\", =,\",\",\").split(\", \")[0:7]),\n",
    "                    # markerfacecolor='g',\n",
    "                    markersize=10) for community in sortedTitles[0:10]]\n",
    "legend_elements+=[Line2D([0], [0],\n",
    "                    linewidth=0,\n",
    "                    marker='o',\n",
    "                    color=(0.75,0.75,0.75),\n",
    "                    label=\"Others\",\n",
    "                    # markerfacecolor='g',\n",
    "                    markersize=10)]\n",
    "ax.legend(handles=legend_elements, loc='center')\n",
    "plt.setp(ax, xticks=[], yticks=[]);\n",
    "plt.savefig(\"legends.pdf\");\n",
    "plt.close();"
   ]
  }
 ],
 "metadata": {
  "kernelspec": {
   "display_name": "Python 3",
   "language": "python",
   "name": "python3"
  },
  "language_info": {
   "codemirror_mode": {
    "name": "ipython",
    "version": 3
   },
   "file_extension": ".py",
   "mimetype": "text/x-python",
   "name": "python",
   "nbconvert_exporter": "python",
   "pygments_lexer": "ipython3",
   "version": "3.7.4"
  }
 },
 "nbformat": 4,
 "nbformat_minor": 4
}
