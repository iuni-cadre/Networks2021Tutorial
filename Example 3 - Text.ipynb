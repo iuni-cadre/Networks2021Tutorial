{
 "cells": [
  {
   "cell_type": "markdown",
   "id": "49b8d98d-ee78-46ac-a9b7-ba2e14343219",
   "metadata": {},
   "source": [
    "### Tutorial 3 - Communities and text data\n",
    " - Loading a citation network\n",
    " - Use the Bardosova method to extract topics from the network communities\n",
    " - Plot word clouds for each community"
   ]
  },
  {
   "cell_type": "markdown",
   "id": "6e8ee212-1c4f-40c1-94bc-10b6c2b50b2b",
   "metadata": {},
   "source": [
    "#### Packages needed"
   ]
  },
  {
   "cell_type": "code",
   "execution_count": 22,
   "id": "337a38d5-8aa3-4e75-9028-f835e18bd825",
   "metadata": {},
   "outputs": [
    {
     "name": "stdout",
     "output_type": "stream",
     "text": [
      "Requirement already satisfied: wordcloud in /opt/conda/lib/python3.9/site-packages (1.8.1)\n",
      "Requirement already satisfied: pillow in /opt/conda/lib/python3.9/site-packages (from wordcloud) (8.2.0)\n",
      "Requirement already satisfied: numpy>=1.6.1 in /opt/conda/lib/python3.9/site-packages (from wordcloud) (1.20.3)\n",
      "Requirement already satisfied: matplotlib in /opt/conda/lib/python3.9/site-packages (from wordcloud) (3.4.2)\n",
      "Requirement already satisfied: cycler>=0.10 in /opt/conda/lib/python3.9/site-packages (from matplotlib->wordcloud) (0.10.0)\n",
      "Requirement already satisfied: kiwisolver>=1.0.1 in /opt/conda/lib/python3.9/site-packages (from matplotlib->wordcloud) (1.3.1)\n",
      "Requirement already satisfied: python-dateutil>=2.7 in /opt/conda/lib/python3.9/site-packages (from matplotlib->wordcloud) (2.8.1)\n",
      "Requirement already satisfied: pyparsing>=2.2.1 in /opt/conda/lib/python3.9/site-packages (from matplotlib->wordcloud) (2.4.7)\n",
      "Requirement already satisfied: six in /opt/conda/lib/python3.9/site-packages (from cycler>=0.10->matplotlib->wordcloud) (1.16.0)\n"
     ]
    }
   ],
   "source": [
    "!pip install wordcloud\n",
    "from tqdm.auto import tqdm\n",
    "import pandas as pd\n",
    "import xnetwork as xnet\n",
    "import numpy as np\n",
    "import igraph as ig\n",
    "import sys\n",
    "import os\n",
    "import math\n",
    "import random\n",
    "from pathlib import Path\n",
    "import matplotlib.pyplot as plt\n",
    "import matplotlib as mpl\n",
    "from wordcloud import WordCloud\n",
    "\n",
    "%matplotlib widget"
   ]
  },
  {
   "cell_type": "markdown",
   "id": "81523625-8d89-44c2-876f-139613f6d078",
   "metadata": {
    "tags": []
   },
   "source": [
    "### Set the query ID here"
   ]
  },
  {
   "cell_type": "code",
   "execution_count": 9,
   "id": "5cda0f49-cbd5-4785-a6c1-dd106ca5b28f",
   "metadata": {
    "tags": []
   },
   "outputs": [],
   "source": [
    "# queryID = \"DEMO_NatureJournals\"\n",
    "\n",
    "queryID = \"DEMO_ComplexNetworkField\"\n",
    "# or use the queryID provided by a query, such as\n",
    "# queryID = \"Nature_0e367ff2-8670-454b-9b31-ca4d0d85fe96\""
   ]
  },
  {
   "cell_type": "markdown",
   "id": "4dd1f397-d995-4fc9-90a2-d35615013e64",
   "metadata": {},
   "source": [
    "#### Setting up some folders and paths"
   ]
  },
  {
   "cell_type": "code",
   "execution_count": 10,
   "id": "0f60d9dd-77af-4498-a2e6-e4dfd25af470",
   "metadata": {
    "tags": []
   },
   "outputs": [],
   "source": [
    "os.makedirs(\"networks\",exist_ok=True)\n",
    "os.makedirs(\"figures\", exist_ok=True)"
   ]
  },
  {
   "cell_type": "markdown",
   "id": "ea7bb184-9b23-41d6-b3ea-ff85d5cd8571",
   "metadata": {},
   "source": [
    "#### Fields available for MAG queries"
   ]
  },
  {
   "cell_type": "code",
   "execution_count": 11,
   "id": "3501592b-ad20-4940-b82c-d402b9cffd80",
   "metadata": {},
   "outputs": [],
   "source": [
    "MAGColumnTypes = {\n",
    "    \"Paper_paperId\":int,\n",
    "    'Affiliation_displayName': str,\n",
    "    'Author_authorId': str,\n",
    "    'Author_rank': str,\n",
    "    'Author_normalizedName': str,\n",
    "    'Author_lastKnownAffiliationId': str,\n",
    "    'Paper_bookTitle': str,\n",
    "    'ConferenceInstance_conferenceInstanceId': str,\n",
    "    'Paper_date': str,\n",
    "    'Paper_docType': str,\n",
    "    'Paper_doi': str,\n",
    "    'FieldOfStudy_fieldOfStudyId': str,\n",
    "    'Paper_issue': str,\n",
    "    'Journal_normalizedName': str,\n",
    "    'Journal_issn': str,\n",
    "    'Journal_publisher': str,\n",
    "    'Paper_originalTitle': str,\n",
    "    'Paper_citationCount': np.float64,\n",
    "    'Paper_estimatedCitation': np.float64,\n",
    "    'Paper_firstPage': str,\n",
    "    'Paper_lastPage': str,\n",
    "    'Paper_publisher': str,\n",
    "    'Paper_referenceCount': np.float64,\n",
    "    'Paper_paperTitle': str,\n",
    "    'Paper_year': np.float64,\n",
    "    'isQueryPaper': str,\n",
    "}"
   ]
  },
  {
   "cell_type": "markdown",
   "id": "fbf2bd50-5220-4cbd-b442-34c40487338c",
   "metadata": {},
   "source": [
    "### Function to build a citation network from the data\n",
    "This function also do some network calculations and detect communities"
   ]
  },
  {
   "cell_type": "code",
   "execution_count": 12,
   "id": "ffc5e537-a723-4def-8c3b-e97cd12a1038",
   "metadata": {},
   "outputs": [],
   "source": [
    "def networkFromQuery(queryID):\n",
    "#     nodes_file, edges_file, output_file\n",
    "    networkPath = Path(\"networks\")/(\"%s.xnet\"%queryID)\n",
    "    if networkPath.is_file():\n",
    "        return xnet.xnet2igraph(networkPath.absolute())\n",
    "    \n",
    "    if(queryID.startswith(\"DEMO_\")):\n",
    "        # if _DEMO_ is used, the data will be loaded from the demo queries instead\n",
    "        queryResultsPath = Path(\"./demo_queries/\")\n",
    "        queryID = queryID.replace(\"DEMO_\",\"\")\n",
    "    else:\n",
    "        queryResultsPath = Path(\"../query-results/\")\n",
    "    \n",
    "    \n",
    "    nodes_file = queryResultsPath/(\"%s.csv\"%queryID)\n",
    "    edges_file = queryResultsPath/(\"%s_edges.csv\"%queryID)\n",
    "    \n",
    "    \n",
    "    global edgesData,nodesData,vertexAttributes,index2ID,graph\n",
    "    edgesData = pd.read_csv(edges_file)\n",
    "    nodesData = pd.read_csv(nodes_file, dtype=MAGColumnTypes).dropna(subset=[\"Paper_year\"])\n",
    "    \n",
    "    # Replacing NaN for empty string\n",
    "    for key in MAGColumnTypes:\n",
    "        if(key in nodesData):\n",
    "            nodesData[key].fillna(\"\",inplace=True)\n",
    "\n",
    "    # Generating continous indices for papers\n",
    "    index2ID  = nodesData[\"Paper_paperId\"].tolist()\n",
    "    ID2Index = {id:index for index, id in enumerate(index2ID)}\n",
    "\n",
    "\n",
    "    # Hack to account for 2 degree capitalized \"FROM\"\n",
    "    fromKey = \"From (Citing)\"\n",
    "\n",
    "    toKey = \"To (Cited)\"\n",
    "    \n",
    "    # Converting edges from IDs to new indices\n",
    "    # Invert edges so it means a citation between from to to\n",
    "    edgesZip = zip(edgesData[fromKey].tolist(),edgesData[toKey].tolist())\n",
    "    edgesList = [(ID2Index[toID],ID2Index[fromID]) for fromID,toID in edgesZip if fromID in ID2Index and toID in ID2Index]\n",
    "\n",
    "    vertexAttributes = {key:nodesData[key].tolist() for key in nodesData if key in MAGColumnTypes}\n",
    "    \n",
    "    for key,data in vertexAttributes.items():\n",
    "        if (isinstance(data[0],str)):\n",
    "            vertexAttributes[key] = [sEntry if len(sEntry)>0 else \"None\" for sEntry in [entry.strip(\"[]\") for entry in data]]\n",
    "            \n",
    "    graph = ig.Graph(\n",
    "        n=len(index2ID),\n",
    "        edges=edgesList,\n",
    "        directed=True,\n",
    "        vertex_attrs=vertexAttributes\n",
    "    )\n",
    "\n",
    "    verticesToDelete = np.where(np.array([value==\"false\" for value in graph.vs[\"isQueryPaper\"]]))[0]\n",
    "    graph.delete_vertices(verticesToDelete)\n",
    "    graph.vs[\"KCore\"] = graph.shell_index(mode=\"IN\")\n",
    "    graph.vs[\"In-Degree\"] = graph.degree(mode=\"IN\")\n",
    "    graph.vs[\"Out-Degree\"] = graph.degree(mode=\"OUT\")\n",
    "\n",
    "    if(\"Paper_year\" in graph.vertex_attributes()):\n",
    "        graph.vs[\"year\"] = [int(year) for year in graph.vs[\"Paper_year\"]]\n",
    "    else:\n",
    "        graph.vs[\"year\"] = [int(s[0:4]) for s in graph.vs[\"date\"]]\n",
    "    \n",
    "    giantComponent = graph.clusters(mode=\"WEAK\").giant()\n",
    "    giantCopy = giantComponent.copy()\n",
    "    giantCopy.to_undirected()\n",
    "    giantComponent.vs[\"Community\"] = [str(c) for c in giantCopy.community_multilevel().membership]\n",
    "    xnet.igraph2xnet(giantComponent, networkPath.absolute())\n",
    "    return xnet.xnet2igraph(networkPath.absolute())"
   ]
  },
  {
   "cell_type": "markdown",
   "id": "e21e7505-e2c2-4855-b5ae-6fbbea9a372f",
   "metadata": {},
   "source": [
    "#### Generating and saving the network"
   ]
  },
  {
   "cell_type": "code",
   "execution_count": 13,
   "id": "7fcfa530-5ab7-418b-8314-f2534f34e259",
   "metadata": {},
   "outputs": [],
   "source": [
    "g = networkFromQuery(queryID)"
   ]
  },
  {
   "cell_type": "code",
   "execution_count": null,
   "id": "29212b38-91bf-465c-8226-16bbf878f670",
   "metadata": {
    "tags": []
   },
   "outputs": [],
   "source": []
  },
  {
   "cell_type": "code",
   "execution_count": 14,
   "id": "45dc4997-2449-4298-8266-a90961cb1ea7",
   "metadata": {},
   "outputs": [
    {
     "data": {
      "application/vnd.jupyter.widget-view+json": {
       "model_id": "14e38fef199f4848a90d5de143169f1c",
       "version_major": 2,
       "version_minor": 0
      },
      "text/plain": [
       "Canvas(toolbar=Toolbar(toolitems=[('Home', 'Reset original view', 'home', 'home'), ('Back', 'Back to previous …"
      ]
     },
     "metadata": {},
     "output_type": "display_data"
    }
   ],
   "source": [
    "def lighten_color(color, amount=0.5):\n",
    "    \"\"\"\n",
    "    Lightens the given color by multiplying (1-luminosity) by the given amount.\n",
    "    Input can be matplotlib color string, hex string, or RGB tuple.\n",
    "\n",
    "    Examples:\n",
    "    >> lighten_color('g', 0.3)\n",
    "    >> lighten_color('#F034A3', 0.6)\n",
    "    >> lighten_color((.3,.55,.1), 0.5)\n",
    "    \"\"\"\n",
    "    import matplotlib.colors as mc\n",
    "    import colorsys\n",
    "    try:\n",
    "        c = mc.cnames[color]\n",
    "    except:\n",
    "        c = color\n",
    "    c = colorsys.rgb_to_hls(*mc.to_rgb(c))\n",
    "    return colorsys.hls_to_rgb(c[0], 1 - amount * (1 - c[1]), c[2])\n",
    "\n",
    "\n",
    "def generateColorFunction(originalColor):\n",
    "    def lighten_color_func(word, font_size, position, orientation, random_state=None,**kwargs):\n",
    "        c = lighten_color(originalColor,font_size/200*0.6+0.2+0.4*random.random())\n",
    "        return (int(c[0]*255),int(c[1]*255),int(c[2]*255))\n",
    "    return lighten_color_func\n",
    "\n",
    "\n",
    "def sortByFrequency(arr):\n",
    "    s = set(arr)\n",
    "    keys = {n: (-arr.count(n), arr.index(n)) for n in s}\n",
    "    return sorted(list(s), key=lambda n: keys[n])\n",
    " \n",
    "\n",
    "\n",
    "_styleColors = [\"#1f77b4\",\"#ff7f0e\",\"#2ca02c\",\"#d62728\",\"#9467bd\",\"#8c564b\",\"#e377c2\",\"#7f7f7f\",\"#bcbd22\",\"#17becf\",\"#aec7e8\",\"#ffbb78\",\"#98df8a\",\"#ff9896\",\"#c5b0d5\",\"#c49c94\",\"#f7b6d2\",\"#c7c7c7\",\"#dbdb8d\",\"#9edae5\"];\n",
    "\n",
    "maxInternalWords = 10000\n",
    "maxAllWords = 10000\n",
    "maxCommunities = 6;\n",
    "\n",
    "communities = g.vs[\"Community\"]\n",
    "sortedCommunities = sortByFrequency(communities)[0:maxCommunities]\n",
    "fig = plt.figure(figsize=(10,2.5*math.ceil(len(sortedCommunities)/2)))\n",
    "allTitles = \"\\n\".join(g.vs[\"Paper_originalTitle\"])\n",
    "allFrequencies = WordCloud(max_words=maxAllWords).process_text(allTitles)\n",
    "amask = np.zeros((500,1000),dtype='B')\n",
    "amask[:10,:] = 255\n",
    "amask[-10:,:] = 255\n",
    "amask[:,:10] = 255\n",
    "amask[:,-10:] = 255\n",
    "for index,community in enumerate(sortedCommunities):\n",
    "    communityColor = (_styleColors[index] if index<len(_styleColors) else \"#aaaaaa\")\n",
    "    titles = \"\\n\".join([vertex[\"Paper_originalTitle\"] for vertex in g.vs if vertex[\"Community\"]==community])\n",
    "    plt.subplot(math.ceil(len(sortedCommunities)/2),2,index+1)\n",
    "    wc = WordCloud(background_color=\"white\", max_words=maxInternalWords, width=1000,height=500,\n",
    "        mask=amask,contour_width=10, contour_color=communityColor,random_state=3,color_func=generateColorFunction(communityColor))\n",
    "    totalTitles = len(titles.split(\"\\n\"))\n",
    "    inCommunityFrequency = wc.process_text(titles)\n",
    "    relativeFrequencies = {key:frequency/totalTitles/(allFrequencies[key]-frequency+1) for key,frequency in inCommunityFrequency.items() if key in allFrequencies and allFrequencies[key]>frequency}\n",
    "    wc.generate_from_frequencies(relativeFrequencies)\n",
    "\n",
    "    plt.imshow(wc, interpolation='bilinear')\n",
    "    plt.axis(\"off\")\n",
    "\n",
    "plt.tight_layout()\n",
    "# plt.savefig(\"wordcloud.pdf\")\n",
    "plt.show()\n",
    "# plt.close(fig)"
   ]
  },
  {
   "cell_type": "code",
   "execution_count": 23,
   "id": "88e3d748-66b3-4ceb-a2f5-76f1c6a8b094",
   "metadata": {
    "tags": []
   },
   "outputs": [],
   "source": [
    "# # color countries\n",
    "# from collections import Counter\n",
    "# community2Index = {community:index for index,(community,_) in enumerate(Counter(g.vs[\"Community\"]).most_common(10))}\n",
    "# communityColors = [mpl.cm.tab10(community2Index[community]) if community in community2Index else \"#888888\" for community in g.vs[\"Community\"]]\n",
    "# # Size of node changes with degree\n",
    "# node_degrees = np.array(g.degree())\n",
    "# ig.plot(g,\n",
    "#     layout=\"lgl\", # lgl, drl, davidson_harel, circle, kamada_kawai, fruchterman_reingold, graphopt\n",
    "#     vertex_size=5,\n",
    "#     vertex_color=communityColors,\n",
    "#     edge_arrow_size=0,\n",
    "#     )"
   ]
  },
  {
   "cell_type": "code",
   "execution_count": null,
   "id": "8b8afe4c-b183-4ef9-a375-7bca0ad7be74",
   "metadata": {},
   "outputs": [],
   "source": []
  }
 ],
 "metadata": {
  "kernelspec": {
   "display_name": "Python 3",
   "language": "python",
   "name": "python3"
  },
  "language_info": {
   "codemirror_mode": {
    "name": "ipython",
    "version": 3
   },
   "file_extension": ".py",
   "mimetype": "text/x-python",
   "name": "python",
   "nbconvert_exporter": "python",
   "pygments_lexer": "ipython3",
   "version": "3.9.4"
  }
 },
 "nbformat": 4,
 "nbformat_minor": 5
}
